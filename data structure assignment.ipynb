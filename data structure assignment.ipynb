{
 "cells": [
  {
   "cell_type": "code",
   "execution_count": 1,
   "id": "9ee7ef7e-d031-497a-b808-8563787c4e87",
   "metadata": {},
   "outputs": [],
   "source": [
    "# QUESTION -1 -: Discuss string slicing and provide examples"
   ]
  },
  {
   "cell_type": "code",
   "execution_count": 2,
   "id": "cac40ea2-2ba0-432f-ad30-fbd6f589a6da",
   "metadata": {},
   "outputs": [
    {
     "name": "stdout",
     "output_type": "stream",
     "text": [
      "Python\n"
     ]
    }
   ],
   "source": [
    "# ANSWER 1 -:\n",
    "\n",
    "#String Slicing Definition :\n",
    "#String slicing is like cutting out a piece of a string. You tell Python where to start and where to stop, and it gives you that part of the string.\n",
    "\n",
    "#Example:\n",
    "\n",
    "text = \"Python Programming\"\n",
    "sliced_text = text[0:6]  # Slice from index 0 to 5 (not including 6)\n",
    "print(sliced_text)\n",
    "#Output:\n",
    "#Python\n",
    "\n",
    "#Explanation:\n",
    "#text[0:6]: This means start at index 0 (the first letter) and end at index 6 (but don't include the letter at index 6).\n",
    "#The result is \"Python\" because Python counts from 0 and stops just before the end index."
   ]
  },
  {
   "cell_type": "code",
   "execution_count": 3,
   "id": "7f40a737-ab64-49ac-b237-fa8f709d2212",
   "metadata": {},
   "outputs": [],
   "source": [
    "# QUESTION -2 -:Explain the key features of lists in Python"
   ]
  },
  {
   "cell_type": "code",
   "execution_count": 5,
   "id": "85c39e19-08c4-4972-8b91-4e6076b1b371",
   "metadata": {},
   "outputs": [
    {
     "name": "stdout",
     "output_type": "stream",
     "text": [
      "[10, 20, 30]\n",
      "[10, 25, 30]\n",
      "[10, 'apple', 3.5]\n"
     ]
    }
   ],
   "source": [
    "# ANSWER 2 -:\n",
    "\n",
    "### Key Features of Lists in Python :\n",
    "\n",
    "#1. Ordered: Lists keep the items in the order you add them.\n",
    "my_list = [10, 20, 30]\n",
    "print(my_list)  # Output: [10, 20, 30]\n",
    "#Here, the order `10, 20, 30` is maintained.\n",
    "\n",
    "#2. Changeable (Mutable): You can change, add, or remove items.\n",
    "my_list = [10, 20, 30]\n",
    "my_list[1] = 25  # Changing value at index 1\n",
    "print(my_list)  # Output: [10, 25, 30]\n",
    "#In this example, `20` is replaced with `25`.\n",
    "\n",
    "#3. Can Hold Different Data Types: A list can store numbers, text, or other lists.\n",
    "my_list = [10, \"apple\", 3.5]\n",
    "print(my_list)  # Output: [10, \"apple\", 3.5]\n",
    "#The list contains an integer, a string, and a float."
   ]
  },
  {
   "cell_type": "code",
   "execution_count": 6,
   "id": "8d28c753-5710-43e1-9f91-fc8f6e61c677",
   "metadata": {},
   "outputs": [],
   "source": [
    "# QUESTION -3 -:Describe how to access, modify, and delete elements in a list with examples"
   ]
  },
  {
   "cell_type": "code",
   "execution_count": 7,
   "id": "6dfbd43b-8999-4f08-8a02-4a28f947eb6e",
   "metadata": {},
   "outputs": [
    {
     "name": "stdout",
     "output_type": "stream",
     "text": [
      "15.5\n",
      "[5, 'banana', 15.5, 'apple', 30]\n",
      "[5, 'banana', 15.5, 30]\n"
     ]
    }
   ],
   "source": [
    "# ANSWER 3 -:\n",
    "\n",
    "### Accessing, Modifying, and Deleting Elements in a List\n",
    "\n",
    "\n",
    "\n",
    "my_list = [5, \"banana\", 15.5, \"apple\", 30] \n",
    "\n",
    "#1. Accessing Elements: we can access elements using their index.\n",
    "# Accessing the element at index 2\n",
    "print(my_list[2])  # Output: 15.5\n",
    "\n",
    "#Here, `my_list[2]` retrieves the value `15.5` from the list.\n",
    "\n",
    "\n",
    "#2. Modifying Elements: You can change an element at a specific index.\n",
    "# Modifying the element at index 1\n",
    "#my_list[1] = \"orange\"\n",
    "print(my_list)  # Output: [5, \"orange\", 15.5, \"apple\", 30]\n",
    "\n",
    "#In this example, the element `\"banana\"` at index `1` is changed to `\"orange\"`.\n",
    "\n",
    "\n",
    "#3. Deleting Elements: You can remove an element using its index.\n",
    "# Deleting the element at index 3\n",
    "del my_list[3]\n",
    "print(my_list)  # Output: [5, \"orange\", 15.5, 30]\n",
    "\n",
    "#Here, the element `\"apple\"` at index `3` is removed from the list.\n"
   ]
  },
  {
   "cell_type": "code",
   "execution_count": 8,
   "id": "178a32b6-7272-4d2f-9241-2067a2de43b0",
   "metadata": {},
   "outputs": [],
   "source": [
    "# QUESTION -4 -:Compare and contrast tuples and lists with examples"
   ]
  },
  {
   "cell_type": "code",
   "execution_count": 11,
   "id": "a80bec72-9daa-41c8-91db-df819a2e54aa",
   "metadata": {},
   "outputs": [
    {
     "name": "stdout",
     "output_type": "stream",
     "text": [
      "[1, 5, 3, 4]\n",
      "<class 'tuple'>\n",
      "<class 'list'>\n",
      "['apple', 'banana', 'cherry', 'date']\n"
     ]
    }
   ],
   "source": [
    "# ANSWER 4 -:\n",
    "\n",
    "### Compare and Contrast Tuples and Lists\n",
    "\n",
    "#### Definitions:\n",
    "#Tuple: A tuple is an immutable sequence of items. Once created, you cannot change its content (i.e., you cannot add, remove, or modify items).\n",
    "#List: A list is a mutable sequence of items. You can change its content by adding, removing, or modifying items.\n",
    "\n",
    "#### Comparison with Examples:\n",
    "\n",
    "#1. Mutability:\n",
    "\n",
    "#Tuple: Cannot be changed after creation.\n",
    "my_tuple = (1, 2, 3, 4)\n",
    "# Trying to modify an element will raise an error\n",
    "#my_tuple[1] = 5  # This will raise a TypeError\n",
    "\n",
    "\n",
    "#List: Can be changed after creation.\n",
    "my_list = [1, 2, 3, 4]\n",
    "my_list[1] = 5  # Modifying the element at index 1\n",
    "print(my_list)  # Output: [1, 5, 3, 4]\n",
    "\n",
    "\n",
    "\n",
    "#2. Syntax:\n",
    "\n",
    "#Tuple: Created using parentheses `()`.\n",
    "my_tuple = (1, 2, 3, 4)\n",
    "print(type(my_tuple))\n",
    "\n",
    "\n",
    "#List: Created using square brackets `[]`.\n",
    "my_list = [1, 2, 3, 4]\n",
    "print(type(my_list))\n",
    "\n",
    "\n",
    "\n",
    "#3. Usage:\n",
    "\n",
    "#Tuple: Generally used for fixed collections of items, often of different types, and when immutability is required.\n",
    "person = (\"John\", 30, \"Engineer\")  # A fixed collection of data\n",
    "\n",
    "\n",
    "#List: Used for collections of items where you might need to change, add, or remove items.\n",
    "fruits = [\"apple\", \"banana\", \"cherry\"]\n",
    "fruits.append(\"date\")  # Adding an item\n",
    "print(fruits)  # Output: [\"apple\", \"banana\", \"cherry\", \"date\"]\n",
    "\n",
    "\n",
    "#4. Performance:\n",
    "\n",
    "#Tuple: Typically faster than lists for iteration due to their immutability.\n",
    "\n",
    "#List: Generally has more overhead due to its dynamic nature.\n",
    "\n",
    "#In summary, tuples are immutable and best used for fixed collections, while lists are mutable and suitable for collections where the content might change."
   ]
  },
  {
   "cell_type": "code",
   "execution_count": 12,
   "id": "862bf86e-63eb-4bd1-ab39-cfa69f01a861",
   "metadata": {},
   "outputs": [],
   "source": [
    "# QUESTION -5 -:Describe the key features of sets and provide examples of their use"
   ]
  },
  {
   "cell_type": "code",
   "execution_count": 13,
   "id": "45820edc-2650-48d5-97a4-4723e1514eb9",
   "metadata": {},
   "outputs": [
    {
     "name": "stdout",
     "output_type": "stream",
     "text": [
      "{1, 2, 3, 4}\n",
      "{1, 2, 3, 4}\n",
      "{1, 3, 4}\n",
      "{2, 3}\n"
     ]
    }
   ],
   "source": [
    "# ANSWER 5 -:\n",
    "\n",
    "### Definition of a Set:\n",
    "#A set is a collection of unique, unordered elements in Python. Unlike lists or tuples, sets do not maintain any order and automatically eliminate duplicate values. They are useful for operations involving unique items and mathematical set operations.\n",
    "\n",
    "### Key Features of Sets with Examples:\n",
    "\n",
    "#1. Unordered: Sets do not maintain the order of elements. The items are stored without any specific sequence.\n",
    "\n",
    "my_set = {3, 1, 4, 2}\n",
    "print(my_set)  # Output might be: {1, 2, 3, 4}\n",
    "\n",
    "#he order of the elements may vary because sets are unordered.\n",
    "\n",
    "#2. No Duplicate Elements: Sets automatically remove duplicate values, ensuring all elements are unique.\n",
    "\n",
    "\n",
    "my_set = {1, 2, 2, 3, 4, 4}\n",
    "print(my_set)  # Output: {1, 2, 3, 4}\n",
    "\n",
    "#Duplicates (`2` and `4`) are removed, so only unique values remain.\n",
    "\n",
    "#3. Mutable: You can add or remove elements from a set after it is created.\n",
    "\n",
    "my_set = {1, 2, 3}\n",
    "my_set.add(4)  # Adding an element\n",
    "my_set.remove(2)  # Removing an element\n",
    "print(my_set)  # Output: {1, 3, 4}\n",
    "\n",
    "#The set is modified by adding `4` and removing `2`.\n",
    "\n",
    "#4. Supports Set Operations: Sets support mathematical operations like union, intersection, and difference.\n",
    "\n",
    "set_a = {1, 2, 3}\n",
    "set_b = {2, 3, 4}\n",
    "intersection = set_a & set_b  # Intersection of set_a and set_b\n",
    "print(intersection)  # Output: {2, 3}\n",
    "\n",
    "#The intersection operation finds common elements between the two sets."
   ]
  },
  {
   "cell_type": "code",
   "execution_count": 14,
   "id": "160b9c1c-56b1-47e9-89a3-e885464e5787",
   "metadata": {},
   "outputs": [],
   "source": [
    "# QUESTION -5 -:Discuss the use cases of tuples and sets in Python programming"
   ]
  },
  {
   "cell_type": "code",
   "execution_count": 16,
   "id": "4bc6d84c-25bc-4a2e-aa22-f2616abeec56",
   "metadata": {},
   "outputs": [
    {
     "name": "stdout",
     "output_type": "stream",
     "text": [
      "(40.7128, -74.006)\n",
      "New York City\n",
      "{101, 102, 103}\n",
      "{3, 4}\n"
     ]
    }
   ],
   "source": [
    "# ANSWER 5 -:\n",
    "\n",
    "### Use Cases of Tuples and Sets in Python Programming\n",
    "\n",
    "#### Tuples\n",
    "\n",
    "#1. Immutable Data: Tuples are used when you need a collection of items that should not be changed. They are ideal for fixed collections of related items.\n",
    "\n",
    "#Example: Storing geographic coordinates (latitude, longitude) that should remain constant.\n",
    "\n",
    "coordinates = (40.7128, -74.0060)  # Latitude and longitude for New York City\n",
    "print(coordinates)  # Output: (40.7128, -74.0060)\n",
    "\n",
    "\n",
    "#2. Dictionary Keys: Tuples can be used as keys in dictionaries because they are immutable and hashable.\n",
    "\n",
    "#Example: Using a tuple as a key to store information about a specific location.\n",
    "\n",
    "location_data = {\n",
    "    (40.7128, -74.0060): \"New York City\",\n",
    "    (34.0522, -118.2437): \"Los Angeles\"\n",
    "}\n",
    "print(location_data[(40.7128, -74.0060)])  # Output: New York City\n",
    "\n",
    "\n",
    "\n",
    "#### Sets\n",
    "\n",
    "#1. Unique Items Collection: Sets are used when you need to store a collection of unique items and automatically remove duplicates.\n",
    "\n",
    "#Example: Keeping track of unique user IDs.\n",
    "user_ids = {101, 102, 103, 101}  # The duplicate 101 will be removed\n",
    "print(user_ids)  # Output: {101, 102, 103}\n",
    "\n",
    "#2. Set Operations: Sets are useful for performing mathematical operations like union, intersection, and difference.\n",
    "\n",
    "#Example: Finding common elements between two groups of users.\n",
    "group_a = {1, 2, 3, 4}\n",
    "group_b = {3, 4, 5, 6}\n",
    "common_users = group_a & group_b  # Intersection of group_a and group_b\n",
    "print(common_users)  # Output: {3, 4}"
   ]
  },
  {
   "cell_type": "code",
   "execution_count": 17,
   "id": "0cb03dec-c333-43fb-9d01-473cb3059092",
   "metadata": {},
   "outputs": [],
   "source": [
    "# QUESTION -5 -:escribe how to add, modify, and delete items in a dictionary with examples"
   ]
  },
  {
   "cell_type": "code",
   "execution_count": 18,
   "id": "967509a8-6072-41cc-bed6-d982649e9375",
   "metadata": {},
   "outputs": [
    {
     "name": "stdout",
     "output_type": "stream",
     "text": [
      "{'name': 'Alice', 'age': 25, 'city': 'New York'}\n",
      "{'name': 'Alice', 'age': 26}\n",
      "{'name': 'Alice', 'age': 25}\n"
     ]
    }
   ],
   "source": [
    "# ANSWER 5 -:\n",
    "### How to Add, Modify, and Delete Items in a Dictionary\n",
    "\n",
    "#### 1. Adding Items\n",
    "\n",
    "#To add an item to a dictionary, you assign a value to a new key.\n",
    "\n",
    "#Example:\n",
    "my_dict = {'name': 'Alice', 'age': 25}\n",
    "my_dict['city'] = 'New York'  # Adding a new key-value pair\n",
    "print(my_dict)  # Output: {'name': 'Alice', 'age': 25, 'city': 'New York'}\n",
    "\n",
    "#Here, `'city': 'New York'` is added to the dictionary.\n",
    "\n",
    "\n",
    "\n",
    "#### 2. Modifying Items\n",
    "\n",
    "#To modify an existing item, you update the value associated with a key.\n",
    "\n",
    "#Example:\n",
    "my_dict = {'name': 'Alice', 'age': 25}\n",
    "my_dict['age'] = 26  # Modifying the value of the key 'age'\n",
    "print(my_dict)  # Output: {'name': 'Alice', 'age': 26'}\n",
    "\n",
    "#The value of `'age'` is updated from `25` to `26`.\n",
    "\n",
    "#### 3. Deleting Items\n",
    "\n",
    "#To delete an item, you use the `del` statement with the key.\n",
    "\n",
    "#Example:\n",
    "my_dict = {'name': 'Alice', 'age': 25, 'city': 'New York'}\n",
    "del my_dict['city']  # Deleting the key-value pair with key 'city'\n",
    "print(my_dict)  # Output: {'name': 'Alice', 'age': 25}\n",
    "#The key-value pair `'city': 'New York'` is removed from the dictionary."
   ]
  },
  {
   "cell_type": "code",
   "execution_count": 19,
   "id": "36e6faad-73e7-49a8-ba08-28601952e7ad",
   "metadata": {},
   "outputs": [],
   "source": [
    "# QUESTION -5 -:Discuss the importance of dictionary keys being immutable and provide examples"
   ]
  },
  {
   "cell_type": "code",
   "execution_count": null,
   "id": "8059d994-6dd3-4d23-bb21-b795ffe66307",
   "metadata": {},
   "outputs": [],
   "source": [
    "# ANSWER 5 -:\n",
    "\n",
    "### Importance of Dictionary Keys Being Immutable\n",
    "\n",
    "#In Python, dictionary keys must be immutable, meaning they cannot be changed after their creation. This immutability ensures the stability and reliability of dictionaries. Here’s why it’s important:\n",
    "\n",
    "\n",
    "#1. Consistency:\n",
    "\n",
    "#Reason: Immutable keys ensure that once a key is set, it cannot change, which guarantees consistent access to values.\n",
    "#Example:\n",
    "my_dict = {('a', 1): 'Value 1'}  # Tuple as a key\n",
    "print(my_dict[('a', 1)])  # Output: Value 1\n",
    "\n",
    "#Here, the tuple `('a', 1)` remains constant, ensuring that the dictionary always maps to `'Value 1'`.\n",
    "\n",
    "            \n",
    "#2.Hashing:\n",
    "            \n",
    "#Reason: Dictionaries use hashing to quickly find values based on keys. Immutable keys can be hashed reliably.\n",
    "#Example:\n",
    "my_dict = {1: 'One', 2: 'Two', 3: 'Three'}\n",
    "print(my_dict[2])  # Output: Two\n",
    "#The integer key `2` remains constant, allowing it to be hashed and used to efficiently retrieve `'Two'`.\n",
    "\n",
    "\n",
    "#3. Avoiding Errors:\n",
    "\n",
    "#Reason: Immutable keys prevent accidental changes to keys, reducing the risk of errors or inconsistencies in data retrieval.\n",
    "#Example:\n",
    "         \n",
    "my_dict = {frozenset([1, 2]): 'Set Value'}  # Frozenset as a key\n",
    "print(my_dict[frozenset([1, 2])])  # Output: Set Value\n",
    "\n",
    "            \n",
    "#Using a frozenset (an immutable set) as a key ensures that the key remains consistent, avoiding issues that might arise with mutable sets.\n"
   ]
  }
 ],
 "metadata": {
  "kernelspec": {
   "display_name": "Python 3 (ipykernel)",
   "language": "python",
   "name": "python3"
  },
  "language_info": {
   "codemirror_mode": {
    "name": "ipython",
    "version": 3
   },
   "file_extension": ".py",
   "mimetype": "text/x-python",
   "name": "python",
   "nbconvert_exporter": "python",
   "pygments_lexer": "ipython3",
   "version": "3.12.6"
  }
 },
 "nbformat": 4,
 "nbformat_minor": 5
}
